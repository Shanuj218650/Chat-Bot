{
 "cells": [
  {
   "cell_type": "code",
   "execution_count": 1,
   "id": "9e56eb18",
   "metadata": {},
   "outputs": [
    {
     "name": "stdout",
     "output_type": "stream",
     "text": [
      "Requirement already satisfied: colorama in c:\\users\\anuj sharma\\anaconda3\\lib\\site-packages (0.4.6)\n"
     ]
    }
   ],
   "source": [
    "!pip install colorama"
   ]
  },
  {
   "cell_type": "code",
   "execution_count": 2,
   "id": "55a274d9",
   "metadata": {},
   "outputs": [],
   "source": [
    "import json\n",
    "import numpy as np\n",
    "import tensorflow as tf\n",
    "from tensorflow import keras\n",
    "from sklearn.preprocessing import LabelEncoder\n",
    "import colorama\n",
    "colorama.init\n",
    "from colorama import Fore, Style, Back\n",
    "import random\n",
    "import pickle"
   ]
  },
  {
   "cell_type": "code",
   "execution_count": 3,
   "id": "ca1151fa",
   "metadata": {},
   "outputs": [],
   "source": [
    "with open('intents.json') as file:\n",
    "  data = json.load(file)"
   ]
  },
  {
   "cell_type": "code",
   "execution_count": 4,
   "id": "af60bbf8",
   "metadata": {},
   "outputs": [],
   "source": [
    "def chat():\n",
    "  model = keras.models.load_model('chat_model')\n",
    "  with open('tokenizer.pickle','rb') as handle:\n",
    "    tokenizer = pickle.load(handle)\n",
    "  with open('label_encoder.pickle','rb') as enc:\n",
    "    lbl_encoder = pickle.load(enc)\n",
    "  max_len = 20\n",
    "\n",
    "  while True:\n",
    "    print(Fore.LIGHTBLUE_EX + \"User\" + Style.RESET_ALL, end =\"\")\n",
    "    inp = input()\n",
    "    if inp.lower() == \"quit\":\n",
    "      break\n",
    "\n",
    "    result = model.predict(keras.preprocessing.sequence.pad_sequences(tokenizer.texts_to_sequences([inp]),\n",
    "                                                                      truncating = 'post',maxlen = max_len))\n",
    "    tag = lbl_encoder.inverse_transform([np.argmax(result)])\n",
    "\n",
    "    for i in data['intents']:\n",
    "      if i['tag'] == tag:\n",
    "        print(Fore.GREEN + \"ChatBot:\" + Style.RESET_ALL, np.random.choice(i['responses']))"
   ]
  },
  {
   "cell_type": "code",
   "execution_count": 5,
   "id": "96ef0927",
   "metadata": {},
   "outputs": [
    {
     "name": "stdout",
     "output_type": "stream",
     "text": [
      "\u001b[33mStart messaging with the bot(type quit to stop)!\u001b[0m\n"
     ]
    }
   ],
   "source": [
    "print(Fore.YELLOW + \"Start messaging with the bot(type quit to stop)!\" + Style.RESET_ALL)"
   ]
  },
  {
   "cell_type": "code",
   "execution_count": null,
   "id": "5b53eb2e",
   "metadata": {},
   "outputs": [
    {
     "name": "stdout",
     "output_type": "stream",
     "text": [
      "\u001b[94mUser\u001b[0mhi\n",
      "1/1 [==============================] - 0s 299ms/step\n",
      "\u001b[32mChatBot:\u001b[0m Hi there, how can I help?\n",
      "\u001b[94mUser\u001b[0mhow's you\n",
      "1/1 [==============================] - 0s 81ms/step\n",
      "\u001b[32mChatBot:\u001b[0m Bye! Come back again soon.\n",
      "\u001b[94mUser\u001b[0m"
     ]
    }
   ],
   "source": [
    "chat()\n"
   ]
  },
  {
   "cell_type": "code",
   "execution_count": null,
   "id": "d1ec4a9a",
   "metadata": {},
   "outputs": [],
   "source": []
  }
 ],
 "metadata": {
  "kernelspec": {
   "display_name": "Python 3 (ipykernel)",
   "language": "python",
   "name": "python3"
  },
  "language_info": {
   "codemirror_mode": {
    "name": "ipython",
    "version": 3
   },
   "file_extension": ".py",
   "mimetype": "text/x-python",
   "name": "python",
   "nbconvert_exporter": "python",
   "pygments_lexer": "ipython3",
   "version": "3.11.4"
  }
 },
 "nbformat": 4,
 "nbformat_minor": 5
}
